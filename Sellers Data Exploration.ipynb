{
 "cells": [
  {
   "cell_type": "code",
   "execution_count": 1,
   "id": "f355c0fe",
   "metadata": {},
   "outputs": [],
   "source": [
    "import pandas as pd\n",
    "import numpy as np\n",
    "\n",
    "import matplotlib.pyplot as plt\n",
    "import seaborn as sns\n",
    "\n",
    "import folium\n",
    "\n",
    "import warnings\n",
    "warnings.filterwarnings(\"ignore\")\n",
    "\n",
    "pd.set_option('display.max_columns', None) # display all columns, without limits"
   ]
  },
  {
   "cell_type": "code",
   "execution_count": 2,
   "id": "edf79783",
   "metadata": {},
   "outputs": [
    {
     "data": {
      "text/html": [
       "<div>\n",
       "<style scoped>\n",
       "    .dataframe tbody tr th:only-of-type {\n",
       "        vertical-align: middle;\n",
       "    }\n",
       "\n",
       "    .dataframe tbody tr th {\n",
       "        vertical-align: top;\n",
       "    }\n",
       "\n",
       "    .dataframe thead th {\n",
       "        text-align: right;\n",
       "    }\n",
       "</style>\n",
       "<table border=\"1\" class=\"dataframe\">\n",
       "  <thead>\n",
       "    <tr style=\"text-align: right;\">\n",
       "      <th></th>\n",
       "      <th>seller_id</th>\n",
       "      <th>seller_zip_code_prefix</th>\n",
       "      <th>seller_city</th>\n",
       "      <th>seller_state</th>\n",
       "    </tr>\n",
       "  </thead>\n",
       "  <tbody>\n",
       "    <tr>\n",
       "      <th>0</th>\n",
       "      <td>3442f8959a84dea7ee197c632cb2df15</td>\n",
       "      <td>13023</td>\n",
       "      <td>campinas</td>\n",
       "      <td>SP</td>\n",
       "    </tr>\n",
       "    <tr>\n",
       "      <th>1</th>\n",
       "      <td>d1b65fc7debc3361ea86b5f14c68d2e2</td>\n",
       "      <td>13844</td>\n",
       "      <td>mogi guacu</td>\n",
       "      <td>SP</td>\n",
       "    </tr>\n",
       "    <tr>\n",
       "      <th>2</th>\n",
       "      <td>ce3ad9de960102d0677a81f5d0bb7b2d</td>\n",
       "      <td>20031</td>\n",
       "      <td>rio de janeiro</td>\n",
       "      <td>RJ</td>\n",
       "    </tr>\n",
       "    <tr>\n",
       "      <th>3</th>\n",
       "      <td>c0f3eea2e14555b6faeea3dd58c1b1c3</td>\n",
       "      <td>4195</td>\n",
       "      <td>sao paulo</td>\n",
       "      <td>SP</td>\n",
       "    </tr>\n",
       "    <tr>\n",
       "      <th>4</th>\n",
       "      <td>51a04a8a6bdcb23deccc82b0b80742cf</td>\n",
       "      <td>12914</td>\n",
       "      <td>braganca paulista</td>\n",
       "      <td>SP</td>\n",
       "    </tr>\n",
       "    <tr>\n",
       "      <th>...</th>\n",
       "      <td>...</td>\n",
       "      <td>...</td>\n",
       "      <td>...</td>\n",
       "      <td>...</td>\n",
       "    </tr>\n",
       "    <tr>\n",
       "      <th>3090</th>\n",
       "      <td>98dddbc4601dd4443ca174359b237166</td>\n",
       "      <td>87111</td>\n",
       "      <td>sarandi</td>\n",
       "      <td>PR</td>\n",
       "    </tr>\n",
       "    <tr>\n",
       "      <th>3091</th>\n",
       "      <td>f8201cab383e484733266d1906e2fdfa</td>\n",
       "      <td>88137</td>\n",
       "      <td>palhoca</td>\n",
       "      <td>SC</td>\n",
       "    </tr>\n",
       "    <tr>\n",
       "      <th>3092</th>\n",
       "      <td>74871d19219c7d518d0090283e03c137</td>\n",
       "      <td>4650</td>\n",
       "      <td>sao paulo</td>\n",
       "      <td>SP</td>\n",
       "    </tr>\n",
       "    <tr>\n",
       "      <th>3093</th>\n",
       "      <td>e603cf3fec55f8697c9059638d6c8eb5</td>\n",
       "      <td>96080</td>\n",
       "      <td>pelotas</td>\n",
       "      <td>RS</td>\n",
       "    </tr>\n",
       "    <tr>\n",
       "      <th>3094</th>\n",
       "      <td>9e25199f6ef7e7c347120ff175652c3b</td>\n",
       "      <td>12051</td>\n",
       "      <td>taubate</td>\n",
       "      <td>SP</td>\n",
       "    </tr>\n",
       "  </tbody>\n",
       "</table>\n",
       "<p>3095 rows × 4 columns</p>\n",
       "</div>"
      ],
      "text/plain": [
       "                             seller_id  seller_zip_code_prefix  \\\n",
       "0     3442f8959a84dea7ee197c632cb2df15                   13023   \n",
       "1     d1b65fc7debc3361ea86b5f14c68d2e2                   13844   \n",
       "2     ce3ad9de960102d0677a81f5d0bb7b2d                   20031   \n",
       "3     c0f3eea2e14555b6faeea3dd58c1b1c3                    4195   \n",
       "4     51a04a8a6bdcb23deccc82b0b80742cf                   12914   \n",
       "...                                ...                     ...   \n",
       "3090  98dddbc4601dd4443ca174359b237166                   87111   \n",
       "3091  f8201cab383e484733266d1906e2fdfa                   88137   \n",
       "3092  74871d19219c7d518d0090283e03c137                    4650   \n",
       "3093  e603cf3fec55f8697c9059638d6c8eb5                   96080   \n",
       "3094  9e25199f6ef7e7c347120ff175652c3b                   12051   \n",
       "\n",
       "            seller_city seller_state  \n",
       "0              campinas           SP  \n",
       "1            mogi guacu           SP  \n",
       "2        rio de janeiro           RJ  \n",
       "3             sao paulo           SP  \n",
       "4     braganca paulista           SP  \n",
       "...                 ...          ...  \n",
       "3090            sarandi           PR  \n",
       "3091            palhoca           SC  \n",
       "3092          sao paulo           SP  \n",
       "3093            pelotas           RS  \n",
       "3094            taubate           SP  \n",
       "\n",
       "[3095 rows x 4 columns]"
      ]
     },
     "execution_count": 2,
     "metadata": {},
     "output_type": "execute_result"
    }
   ],
   "source": [
    "# Load the dataset\n",
    "sellers_df = pd.read_csv('dataset/olist_sellers_dataset.csv')\n",
    "sellers_df"
   ]
  },
  {
   "cell_type": "code",
   "execution_count": 3,
   "id": "9f5c7098",
   "metadata": {},
   "outputs": [
    {
     "name": "stdout",
     "output_type": "stream",
     "text": [
      "<class 'pandas.core.frame.DataFrame'>\n",
      "RangeIndex: 3095 entries, 0 to 3094\n",
      "Data columns (total 4 columns):\n",
      " #   Column                  Non-Null Count  Dtype \n",
      "---  ------                  --------------  ----- \n",
      " 0   seller_id               3095 non-null   object\n",
      " 1   seller_zip_code_prefix  3095 non-null   int64 \n",
      " 2   seller_city             3095 non-null   object\n",
      " 3   seller_state            3095 non-null   object\n",
      "dtypes: int64(1), object(3)\n",
      "memory usage: 96.8+ KB\n"
     ]
    }
   ],
   "source": [
    "sellers_df.info()"
   ]
  },
  {
   "cell_type": "markdown",
   "id": "3052aed6",
   "metadata": {},
   "source": [
    "### **Missing Values**"
   ]
  },
  {
   "cell_type": "code",
   "execution_count": 3,
   "id": "4c3942d4",
   "metadata": {},
   "outputs": [
    {
     "data": {
      "text/plain": [
       "seller_id                 0\n",
       "seller_zip_code_prefix    0\n",
       "seller_city               0\n",
       "seller_state              0\n",
       "dtype: int64"
      ]
     },
     "execution_count": 3,
     "metadata": {},
     "output_type": "execute_result"
    }
   ],
   "source": [
    "sellers_df.isna().sum() # check for missing values"
   ]
  },
  {
   "cell_type": "markdown",
   "id": "6b8dc9b8",
   "metadata": {},
   "source": [
    "### **Duplicate Values**"
   ]
  },
  {
   "cell_type": "code",
   "execution_count": 4,
   "id": "753ceeba",
   "metadata": {},
   "outputs": [
    {
     "data": {
      "text/plain": [
       "0"
      ]
     },
     "execution_count": 4,
     "metadata": {},
     "output_type": "execute_result"
    }
   ],
   "source": [
    "sellers_df.duplicated().sum() # check for duplicates"
   ]
  },
  {
   "cell_type": "markdown",
   "id": "0b42397e",
   "metadata": {},
   "source": [
    "### **Unique Values**"
   ]
  },
  {
   "cell_type": "code",
   "execution_count": 5,
   "id": "1c2e79d7",
   "metadata": {},
   "outputs": [
    {
     "data": {
      "text/html": [
       "<div>\n",
       "<style scoped>\n",
       "    .dataframe tbody tr th:only-of-type {\n",
       "        vertical-align: middle;\n",
       "    }\n",
       "\n",
       "    .dataframe tbody tr th {\n",
       "        vertical-align: top;\n",
       "    }\n",
       "\n",
       "    .dataframe thead th {\n",
       "        text-align: right;\n",
       "    }\n",
       "</style>\n",
       "<table border=\"1\" class=\"dataframe\">\n",
       "  <thead>\n",
       "    <tr style=\"text-align: right;\">\n",
       "      <th></th>\n",
       "      <th>Column Name</th>\n",
       "      <th>Number of Unique</th>\n",
       "      <th>Unique Sample</th>\n",
       "    </tr>\n",
       "  </thead>\n",
       "  <tbody>\n",
       "    <tr>\n",
       "      <th>0</th>\n",
       "      <td>seller_id</td>\n",
       "      <td>3095</td>\n",
       "      <td>[0015a82c2db000af6aaaf3ae2ecb0532, 001cca7ae9ae17fb1caed9dfb1094831, 001e6ad469a905060d959994f1b41e4f, 002100f778ceb8431b7a1020ff7ab48f, 003554e2dce176b5555353e4f3555ac8, 004c9cd9d87a3c30c522c48c4fc07416, 00720abe85ba0859807595bbf045a33b, 00ab3eff1b5192e5f1a63bcecfee11c8, 00d8b143d12632bad99c0ad66ad52825, 00ee68308b45bc5e2660cd833c3f81cc, 00fc707aaaad2d31347cf883cd2dfe10, 010543a62bd80aa422851e79a3bc7540, 010da0602d7774602cd1b3f5fb7b709e, 011b0eaba87386a2ae96a7d32bb531d1, 01266d4c46afa519678d16a8b683d325, 013900e863eace745d3ec7614cab5b1a, 014c0679dd340a0e338872e7ec85666a, 014d9a685fd57276679edd00e07089e5, 0176f73cc1195f367f7b32db1e5b3aa8, 01bcc9d254a0143f0ce9791b960b2a47, 01c97ebb5cdac52891c0ed1c37ba0012, 01cf7e3d21494c41fb86034f2e714fa1, 01ed254b9ff8407dfb9d99ba1e17d923, 01fd077212124329bac32490e8ef80d9, 01fdefa7697d26ad920e9e0346d4bd1b, 0241d4d5d36f10f80c644447315af0bd, 0249d282d911d23cb8b869ab49c99f53, 024b564ae893ce8e9bfa02c10a401ece, 028872bfa080090a9d0abd4f1af168f8, 02a2272692e13558373c66db98f05e2e, 02b72cdeb9cfcc429f1af6f4e3f3b737, 02c988090b766852e088c69d7fb3b551, 02d35243ea2e497335cd0f076b45675d, 02dcd3e8e25bee036e32512bcf175493, 02ecc2a19303f05e59ce133fd923fff7, 02f5837340d7eb4f653d676c7256523a, 02f623a8eb246f3c5f7c2f96462654e6, 0307f7565ff85b299b6e5ef162b1b1a9, 0336182e1b3e92f029d5354832045fdf, 034b9387752bfa309f350a70cd45ffa3, 038b75b729c8a9a04b0d07cba7eabe86, 039b29ff3b3473435d0cd59040575de9, 039e6ad9dae79614493083e241147386, 03a2a6dcbe45d639c4dc2a0d24769c40, 03bd479e1d9484cdb14104d3023f7321, 0417b067eeab773d2f7061a726dc477f, 042573af89b6d931f672efaf789d8358, 04308b1ee57b6625f47df1d56f00eedf, 0432ead42b6c8a0bdf68154add917fdf, 044668ccd5316b12a7cf0d54a156e3e9, 04843805947f0fc584fc1969b6e50fe7, 048c2757535328e0d7dac690ad3c0aae, 04aa0a1c5ce6b222003403a3e11c3cc0, 04aba03279157f6d4e0fe8ccaf21963c, 04e38a233f726ef161074ab1c9b0399a, 04ee0ec01589969663ba5967c0e0bdc0, 04fdea0c111866e6cf812f1570d6b5bd, 0509040ea3fe50071181bbc359eb7738, 052577151711aec5c744fe12e66db3e1, 054694fa03fe82cec4b7551487331d74, 056b4ada5bbc2c50cc7842547dda6b51, 0570350b23eda5444f8d1d9544932058, 05730013efda596306417c3b09302475, 058cb5aeb36d7c0fcae20fc85d5e0a59, 058fd0aa2bfdb2274e05e1ae971dabb6, 05a48cc8859962767935ab9087417fbb, 05a940b4ecae36cadfd8e93bd9c43257, 05aebce0b5c8f0d41b29b686f2d05fd3, 05ca864204d09595ae591b93ea9cf93d, 05d2173d43ea568aa0540eba70d2ca76, 05e107217c7266362fd44b75b2cd4cc4, 05f51e13da97139648b8125c31e5f51b, 05feb94f19d094d4b0f9281f0b1d4c99, 05ff92fedb5be47920fea08e501238b9, 062c325cd6a2b87845fab56b4ec2eeae, 062ce95fa2ad4dfaedfc79260130565f, 06532f10282704ef4c69168b914b77be, 06579cb253ecd5a3a12a9e6eb6bf8f47, 066a6914e1ebf3ea95a216c73a986b91, 0691148aee60ca47977c187804f935ae, 0692610d8abe24f287e9fae90ea0bbee, 06a2c3af7b3aee5d69171b0e14f0ee87, 06bb3a2fe5e7b7a845b13e8fb91bd944, 06df0c10d34e459d9672bc77388742eb, 06e5eefc71ec47ae763c5c6f8db7064f, 07017df32dc5f2f1d2801e579548d620, 070d165398b553f3b4b851c216b8a358, 0725b8c0f3f906e58f70cbe76b7c748c, 0743a0239d764b9a0f959a57d07e36ab, 0747d5bb69f0586cc869d8af4c50f93e, 0761743cbffb25d7148189e9f1a5f03a, 077c5fae4bea9500e3737b16f71b9d3a, 0791d9fc1e30678ecf03d3e55fa108d3, 079d295dcbf06ee8bb1b65ba964eb2b6, 07a9bc7f61396b658ddf3ac534efe44c, 07bf9669d84d1f11be443a9dd938f698, 07d75e33f2750d97d467fb57e4dfdd8a, 07de60b03d150fb3ea09eab5da5e4c8b, 07e8e8fc5222bb358e6f259da3197074, 080102cd0a76b09e0dcf55fcacc60e05, ...]</td>\n",
       "    </tr>\n",
       "    <tr>\n",
       "      <th>1</th>\n",
       "      <td>seller_zip_code_prefix</td>\n",
       "      <td>2246</td>\n",
       "      <td>[1001, 1021, 1022, 1023, 1026, 1031, 1035, 1039, 1040, 1041, 1042, 1044, 1123, 1125, 1126, 1127, 1129, 1131, 1139, 1140, 1156, 1201, 1206, 1207, 1208, 1209, 1210, 1212, 1214, 1215, 1220, 1222, 1223, 1224, 1226, 1230, 1233, 1238, 1239, 1244, 1254, 1257, 1303, 1309, 1310, 1311, 1314, 1319, 1320, 1403, 1408, 1411, 1417, 1420, 1421, 1425, 1452, 1511, 1512, 1529, 1530, 1539, 1541, 1545, 1547, 1550, 1552, 2013, 2016, 2022, 2028, 2030, 2034, 2035, 2036, 2040, 2047, 2050, 2051, 2066, 2110, 2112, 2113, 2116, 2117, 2118, 2119, 2122, 2124, 2134, 2150, 2189, 2215, 2220, 2236, 2238, 2242, 2252, 2258, 2261, ...]</td>\n",
       "    </tr>\n",
       "    <tr>\n",
       "      <th>2</th>\n",
       "      <td>seller_city</td>\n",
       "      <td>611</td>\n",
       "      <td>[04482255, abadia de goias, afonso claudio, aguas claras df, alambari, alfenas, almirante tamandare, alvares machado, alvorada, americana, amparo, ampere, anapolis, andira-pr, andradas, angra dos reis, angra dos reis rj, ao bernardo do campo, aparecida, aparecida de goiania, aperibe, apucarana, aracaju, aracatuba, araguari, arapongas, araquari, ararangua, araraquara, araras, araucaria, araxa, arinos, armacao dos buzios, arraial d'ajuda (porto seguro), artur nogueira, aruja, arvorezinha, assis, atibaia, auriflama, auriflama/sp, avare, bady bassitt, baependi, bage, bahia, balenario camboriu, balneario camboriu, bandeirantes, barbacena, barbacena/ minas gerais, bariri, barra mansa, barra velha, barretos, barrinha, barro alto, barueri, batatais, bauru, bebedouro, belford roxo, belo horizont, belo horizonte, bento goncalves, bertioga, betim, birigui, blumenau, bocaiuva do sul, bofete, boituva, bom jardim, bom jesus dos perdoes, bombinhas, bonfinopolis de minas, borda da mata, botucatu, braco do norte, braganca paulista, brasilia, brasilia df, brejao, brotas, brusque, buritama, cacador, cachoeira do sul, cachoeirinha, cachoeiro de itapemirim, cafelandia, caieiras, cajamar, california, camanducaia, cambe, camboriu, campanha, campina das missoes, ...]</td>\n",
       "    </tr>\n",
       "    <tr>\n",
       "      <th>3</th>\n",
       "      <td>seller_state</td>\n",
       "      <td>23</td>\n",
       "      <td>[AC, AM, BA, CE, DF, ES, GO, MA, MG, MS, MT, PA, PB, PE, PI, PR, RJ, RN, RO, RS, SC, SE, SP]</td>\n",
       "    </tr>\n",
       "  </tbody>\n",
       "</table>\n",
       "</div>"
      ],
      "text/plain": [
       "              Column Name  Number of Unique  \\\n",
       "0               seller_id              3095   \n",
       "1  seller_zip_code_prefix              2246   \n",
       "2             seller_city               611   \n",
       "3            seller_state                23   \n",
       "\n",
       "                                                                                                                                                                                                                                                                                                                                                                                                                                                                                                                                                                                                                                                                                                                                                                                                                                                                                                                                                                                                                                                                                                                                                                                                                                                                                                                                                                                                                                                                                                                                                                                                                                                                                                                                                                                                                                                                                                                                                                                                                                                                                                                                                                                                                                                                                                                                                                                                                                                                                                                                                                                                                                                                                                                                                                                                                                                                                                                                                                                                                                                                                                                                                                                                                                                                                                                                                                                                                                                                                                                                   Unique Sample  \n",
       "0  [0015a82c2db000af6aaaf3ae2ecb0532, 001cca7ae9ae17fb1caed9dfb1094831, 001e6ad469a905060d959994f1b41e4f, 002100f778ceb8431b7a1020ff7ab48f, 003554e2dce176b5555353e4f3555ac8, 004c9cd9d87a3c30c522c48c4fc07416, 00720abe85ba0859807595bbf045a33b, 00ab3eff1b5192e5f1a63bcecfee11c8, 00d8b143d12632bad99c0ad66ad52825, 00ee68308b45bc5e2660cd833c3f81cc, 00fc707aaaad2d31347cf883cd2dfe10, 010543a62bd80aa422851e79a3bc7540, 010da0602d7774602cd1b3f5fb7b709e, 011b0eaba87386a2ae96a7d32bb531d1, 01266d4c46afa519678d16a8b683d325, 013900e863eace745d3ec7614cab5b1a, 014c0679dd340a0e338872e7ec85666a, 014d9a685fd57276679edd00e07089e5, 0176f73cc1195f367f7b32db1e5b3aa8, 01bcc9d254a0143f0ce9791b960b2a47, 01c97ebb5cdac52891c0ed1c37ba0012, 01cf7e3d21494c41fb86034f2e714fa1, 01ed254b9ff8407dfb9d99ba1e17d923, 01fd077212124329bac32490e8ef80d9, 01fdefa7697d26ad920e9e0346d4bd1b, 0241d4d5d36f10f80c644447315af0bd, 0249d282d911d23cb8b869ab49c99f53, 024b564ae893ce8e9bfa02c10a401ece, 028872bfa080090a9d0abd4f1af168f8, 02a2272692e13558373c66db98f05e2e, 02b72cdeb9cfcc429f1af6f4e3f3b737, 02c988090b766852e088c69d7fb3b551, 02d35243ea2e497335cd0f076b45675d, 02dcd3e8e25bee036e32512bcf175493, 02ecc2a19303f05e59ce133fd923fff7, 02f5837340d7eb4f653d676c7256523a, 02f623a8eb246f3c5f7c2f96462654e6, 0307f7565ff85b299b6e5ef162b1b1a9, 0336182e1b3e92f029d5354832045fdf, 034b9387752bfa309f350a70cd45ffa3, 038b75b729c8a9a04b0d07cba7eabe86, 039b29ff3b3473435d0cd59040575de9, 039e6ad9dae79614493083e241147386, 03a2a6dcbe45d639c4dc2a0d24769c40, 03bd479e1d9484cdb14104d3023f7321, 0417b067eeab773d2f7061a726dc477f, 042573af89b6d931f672efaf789d8358, 04308b1ee57b6625f47df1d56f00eedf, 0432ead42b6c8a0bdf68154add917fdf, 044668ccd5316b12a7cf0d54a156e3e9, 04843805947f0fc584fc1969b6e50fe7, 048c2757535328e0d7dac690ad3c0aae, 04aa0a1c5ce6b222003403a3e11c3cc0, 04aba03279157f6d4e0fe8ccaf21963c, 04e38a233f726ef161074ab1c9b0399a, 04ee0ec01589969663ba5967c0e0bdc0, 04fdea0c111866e6cf812f1570d6b5bd, 0509040ea3fe50071181bbc359eb7738, 052577151711aec5c744fe12e66db3e1, 054694fa03fe82cec4b7551487331d74, 056b4ada5bbc2c50cc7842547dda6b51, 0570350b23eda5444f8d1d9544932058, 05730013efda596306417c3b09302475, 058cb5aeb36d7c0fcae20fc85d5e0a59, 058fd0aa2bfdb2274e05e1ae971dabb6, 05a48cc8859962767935ab9087417fbb, 05a940b4ecae36cadfd8e93bd9c43257, 05aebce0b5c8f0d41b29b686f2d05fd3, 05ca864204d09595ae591b93ea9cf93d, 05d2173d43ea568aa0540eba70d2ca76, 05e107217c7266362fd44b75b2cd4cc4, 05f51e13da97139648b8125c31e5f51b, 05feb94f19d094d4b0f9281f0b1d4c99, 05ff92fedb5be47920fea08e501238b9, 062c325cd6a2b87845fab56b4ec2eeae, 062ce95fa2ad4dfaedfc79260130565f, 06532f10282704ef4c69168b914b77be, 06579cb253ecd5a3a12a9e6eb6bf8f47, 066a6914e1ebf3ea95a216c73a986b91, 0691148aee60ca47977c187804f935ae, 0692610d8abe24f287e9fae90ea0bbee, 06a2c3af7b3aee5d69171b0e14f0ee87, 06bb3a2fe5e7b7a845b13e8fb91bd944, 06df0c10d34e459d9672bc77388742eb, 06e5eefc71ec47ae763c5c6f8db7064f, 07017df32dc5f2f1d2801e579548d620, 070d165398b553f3b4b851c216b8a358, 0725b8c0f3f906e58f70cbe76b7c748c, 0743a0239d764b9a0f959a57d07e36ab, 0747d5bb69f0586cc869d8af4c50f93e, 0761743cbffb25d7148189e9f1a5f03a, 077c5fae4bea9500e3737b16f71b9d3a, 0791d9fc1e30678ecf03d3e55fa108d3, 079d295dcbf06ee8bb1b65ba964eb2b6, 07a9bc7f61396b658ddf3ac534efe44c, 07bf9669d84d1f11be443a9dd938f698, 07d75e33f2750d97d467fb57e4dfdd8a, 07de60b03d150fb3ea09eab5da5e4c8b, 07e8e8fc5222bb358e6f259da3197074, 080102cd0a76b09e0dcf55fcacc60e05, ...]  \n",
       "1                                                                                                                                                                                                                                                                                                                                                                                                                                                                                                                                                                                                                                                                                                                                                                                                                                                                                                                                                                                                                                                                                                                                                                                                                                                                                                                                                                                                                                                                                                                                                                                                                                                                                                                                                                                                                                                                                                                                                                                                                                                                                                                                                                                                                                                                                                                                                                                                                                                                                                                                                                                                                                                                                                                                                                                                                                                                                                                  [1001, 1021, 1022, 1023, 1026, 1031, 1035, 1039, 1040, 1041, 1042, 1044, 1123, 1125, 1126, 1127, 1129, 1131, 1139, 1140, 1156, 1201, 1206, 1207, 1208, 1209, 1210, 1212, 1214, 1215, 1220, 1222, 1223, 1224, 1226, 1230, 1233, 1238, 1239, 1244, 1254, 1257, 1303, 1309, 1310, 1311, 1314, 1319, 1320, 1403, 1408, 1411, 1417, 1420, 1421, 1425, 1452, 1511, 1512, 1529, 1530, 1539, 1541, 1545, 1547, 1550, 1552, 2013, 2016, 2022, 2028, 2030, 2034, 2035, 2036, 2040, 2047, 2050, 2051, 2066, 2110, 2112, 2113, 2116, 2117, 2118, 2119, 2122, 2124, 2134, 2150, 2189, 2215, 2220, 2236, 2238, 2242, 2252, 2258, 2261, ...]  \n",
       "2                                                                                                                                                                                                                                                                                                                                                                                                                                                                                                                                                                                                                                                                                                                                                                                                                                                                                                                                                                                                                                                                                                                                                                                                                                                                                                                                                                                                                                                                                                                                                                                                                                                                                                                                                                                                                                                                                                                                                                                                                                                                                                                                                                                                                                [04482255, abadia de goias, afonso claudio, aguas claras df, alambari, alfenas, almirante tamandare, alvares machado, alvorada, americana, amparo, ampere, anapolis, andira-pr, andradas, angra dos reis, angra dos reis rj, ao bernardo do campo, aparecida, aparecida de goiania, aperibe, apucarana, aracaju, aracatuba, araguari, arapongas, araquari, ararangua, araraquara, araras, araucaria, araxa, arinos, armacao dos buzios, arraial d'ajuda (porto seguro), artur nogueira, aruja, arvorezinha, assis, atibaia, auriflama, auriflama/sp, avare, bady bassitt, baependi, bage, bahia, balenario camboriu, balneario camboriu, bandeirantes, barbacena, barbacena/ minas gerais, bariri, barra mansa, barra velha, barretos, barrinha, barro alto, barueri, batatais, bauru, bebedouro, belford roxo, belo horizont, belo horizonte, bento goncalves, bertioga, betim, birigui, blumenau, bocaiuva do sul, bofete, boituva, bom jardim, bom jesus dos perdoes, bombinhas, bonfinopolis de minas, borda da mata, botucatu, braco do norte, braganca paulista, brasilia, brasilia df, brejao, brotas, brusque, buritama, cacador, cachoeira do sul, cachoeirinha, cachoeiro de itapemirim, cafelandia, caieiras, cajamar, california, camanducaia, cambe, camboriu, campanha, campina das missoes, ...]  \n",
       "3                                                                                                                                                                                                                                                                                                                                                                                                                                                                                                                                                                                                                                                                                                                                                                                                                                                                                                                                                                                                                                                                                                                                                                                                                                                                                                                                                                                                                                                                                                                                                                                                                                                                                                                                                                                                                                                                                                                                                                                                                                                                                                                                                                                                                                                                                                                                                                                                                                                                                                                                                                                                                                                                                                                                                                                                                                                                                                                                                                                                                                                                                                                                                                                                                                                                                                                                                                                                                                                   [AC, AM, BA, CE, DF, ES, GO, MA, MG, MS, MT, PA, PB, PE, PI, PR, RJ, RN, RO, RS, SC, SE, SP]  "
      ]
     },
     "execution_count": 5,
     "metadata": {},
     "output_type": "execute_result"
    }
   ],
   "source": [
    "pd.set_option('display.max_colwidth', None)\n",
    "\n",
    "listItem = []\n",
    "for col in sellers_df.columns :\n",
    "    listItem.append([col, sellers_df[col].nunique(), sellers_df[col].sort_values().unique()])\n",
    "\n",
    "df_uniques_per_column = pd.DataFrame(columns=['Column Name', 'Number of Unique', 'Unique Sample'], data=listItem)\n",
    "df_uniques_per_column.sort_values('Number of Unique', ascending=False)"
   ]
  },
  {
   "cell_type": "code",
   "execution_count": 5,
   "id": "970174d5",
   "metadata": {},
   "outputs": [
    {
     "name": "stdout",
     "output_type": "stream",
     "text": [
      "<class 'pandas.core.frame.DataFrame'>\n",
      "RangeIndex: 1000163 entries, 0 to 1000162\n",
      "Data columns (total 5 columns):\n",
      " #   Column                       Non-Null Count    Dtype  \n",
      "---  ------                       --------------    -----  \n",
      " 0   geolocation_zip_code_prefix  1000163 non-null  int64  \n",
      " 1   geolocation_lat              1000163 non-null  float64\n",
      " 2   geolocation_lng              1000163 non-null  float64\n",
      " 3   geolocation_city             1000163 non-null  object \n",
      " 4   geolocation_state            1000163 non-null  object \n",
      "dtypes: float64(2), int64(1), object(2)\n",
      "memory usage: 38.2+ MB\n"
     ]
    }
   ],
   "source": [
    "geoloc_df = pd.read_csv('dataset/olist_geolocation_dataset.csv')\n",
    "geoloc_df.info()"
   ]
  }
 ],
 "metadata": {
  "kernelspec": {
   "display_name": "base",
   "language": "python",
   "name": "python3"
  },
  "language_info": {
   "codemirror_mode": {
    "name": "ipython",
    "version": 3
   },
   "file_extension": ".py",
   "mimetype": "text/x-python",
   "name": "python",
   "nbconvert_exporter": "python",
   "pygments_lexer": "ipython3",
   "version": "3.12.3"
  }
 },
 "nbformat": 4,
 "nbformat_minor": 5
}
